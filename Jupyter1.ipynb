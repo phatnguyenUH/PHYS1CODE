{
 "cells": [
  {
   "cell_type": "code",
   "execution_count": 1,
   "metadata": {},
   "outputs": [
    {
     "name": "stdout",
     "output_type": "stream",
     "text": [
      "hello\n"
     ]
    }
   ],
   "source": [
    "print(\"hello\")"
   ]
  },
  {
   "cell_type": "code",
   "execution_count": 2,
   "metadata": {
    "scrolled": true
   },
   "outputs": [
    {
     "name": "stdout",
     "output_type": "stream",
     "text": [
      "Please enter a (m/s^2): -9.8\n",
      "<class 'float'>\n",
      "Please enter v initial (m/s): 0\n",
      "<class 'float'>\n",
      "Please enter h initial (m/s^2): 100\n",
      "<class 'float'>\n",
      "Calculated time to land: 4.51\n",
      "Numerical time to land: 4.5\n"
     ]
    },
    {
     "data": {
      "image/png": "[encoded data removed]",
      "text/plain": [
       "<Figure size 432x288 with 3 Axes>"
      ]
     },
     "metadata": {
      "needs_background": "light"
     },
     "output_type": "display_data"
    }
   ],
   "source": [
    "from numpy import trapz\n",
    "import numpy as np\n",
    "import matplotlib.pyplot as ptl\n",
    "\n",
    "\n",
    "def velocity(v0,a,t):\n",
    "    vel = np.empty_like(t)\n",
    "    vel = v0 + a*t\n",
    "    return vel\n",
    "def height(h0,v0,a,t):\n",
    "    hei = np.empty_like(t)\n",
    "    # calculate using y = y0 + v0*t + (1/2)*a*t^2\n",
    "    hei = h0 + v0*t + 0.5*a*np.power(t,2)\n",
    "    return hei\n",
    "a = -9.8\n",
    "v0 = 0\n",
    "h0 = 100\n",
    "#Getting user inputs\n",
    "a = float(input(\"Please enter a (m/s^2): \"))\n",
    "print(type(a))\n",
    "v0 = float(input(\"Please enter v initial (m/s): \"))\n",
    "print(type(v0))\n",
    "h0 = float(input(\"Please enter h initial (m/s^2): \"))\n",
    "print(type(h0))\n",
    "t = np.arange(0,150,0.01)\n",
    "v = v0 + a*t\n",
    "h1 = height(h0,v0,a,t)\n",
    "index = 0\n",
    " #h2 is numerical integration\n",
    "h2 = np.empty_like(t)\n",
    "#numerical integration method\n",
    "while index < len(v)-1:\n",
    "    y1 = v[index]\n",
    "    y2 = v[index+1]\n",
    "    if index >0:\n",
    "        h2[index] = h2[index-1]+trapz([y1,y2],dx = 0.01)\n",
    "    else:\n",
    "        h2[index] = h0+trapz([y1,y2],dx = 0.1)\n",
    "    index = index+1\n",
    "h2[index] = h2[index-1]+trapz([v[index-1],v[index]],dx = 0.01)\n",
    "t1 = t[h1>=0]\n",
    "h1 = h1[:len(t1)]\n",
    "t2 = t[h2>=0]\n",
    "h2 = h2[:len(t2)]\n",
    "v = v[:len(t1)]\n",
    "print(\"Calculated time to land: \"+str(t1[len(t1)-1]))\n",
    "print(\"Numerical time to land: \"+str(t2[len(t2)-1]))\n",
    "#plot h1 (calculated)\n",
    "ptl.subplot(3,1,1)\n",
    "ptl.plot(t1,h1)\n",
    "ptl.ylabel('Height1')\n",
    "#plot h2 (numerical\n",
    "ptl.subplot(3,1,2)\n",
    "ptl.plot(t2,h2)\n",
    "ptl.ylabel('Height2 (numerical)')\n",
    "#plot velocity\n",
    "ptl.subplot(3,1,3)\n",
    "ptl.plot(t1,v)\n",
    "ptl.ylabel('velocity (m/s)')\n",
    "ptl.xlabel('time (s)')\n",
    "ptl.show()\n",
    "\n",
    "\n"
   ]
  },
  {
   "cell_type": "code",
   "execution_count": null,
   "metadata": {},
   "outputs": [],
   "source": []
  }
 ],
 "metadata": {
  "kernelspec": {
   "display_name": "Python 3",
   "language": "python",
   "name": "python3"
  },
  "language_info": {
   "codemirror_mode": {
    "name": "ipython",
    "version": 3
   },
   "file_extension": ".py",
   "mimetype": "text/x-python",
   "name": "python",
   "nbconvert_exporter": "python",
   "pygments_lexer": "ipython3",
   "version": "3.7.4"
  }
 },
 "nbformat": 4,
 "nbformat_minor": 2
}
